{
  "nbformat": 4,
  "nbformat_minor": 0,
  "metadata": {
    "colab": {
      "provenance": [],
      "include_colab_link": true
    },
    "kernelspec": {
      "name": "python3",
      "display_name": "Python 3"
    },
    "language_info": {
      "name": "python"
    }
  },
  "cells": [
    {
      "cell_type": "markdown",
      "metadata": {
        "id": "view-in-github",
        "colab_type": "text"
      },
      "source": [
        "<a href=\"https://colab.research.google.com/github/Jonathan06092006/Tareas-Computaci-n/blob/main/Untitled6.ipynb\" target=\"_parent\"><img src=\"https://colab.research.google.com/assets/colab-badge.svg\" alt=\"Open In Colab\"/></a>"
      ]
    },
    {
      "cell_type": "markdown",
      "source": [
        "**INTEGRANTES**\n",
        "\n",
        "---\n",
        "\n",
        "MARTINEZ FLORES JONATHAN\n",
        "\n",
        "PEREZ RESENDIZ ALISON ODETTE\n"
      ],
      "metadata": {
        "id": "K5ni7bviDGsT"
      }
    },
    {
      "cell_type": "markdown",
      "source": [
        "**NUMPY**"
      ],
      "metadata": {
        "id": "VG08Z9gcAmuN"
      }
    },
    {
      "cell_type": "code",
      "execution_count": 52,
      "metadata": {
        "colab": {
          "base_uri": "https://localhost:8080/"
        },
        "id": "T3aBP6jHiahT",
        "outputId": "4de33efb-f9d3-4c76-b259-8000c168eb9e"
      },
      "outputs": [
        {
          "output_type": "stream",
          "name": "stdout",
          "text": [
            "[['1' '2' '3']\n",
            " ['4' '5' '6']\n",
            " ['7' '8' '9']]\n"
          ]
        }
      ],
      "source": [
        "import numpy as np\n",
        "mat1 = np.array([[\"1\", \"2\", \"3\"], [\"4\", \"5\", \"6\"], [\"7\", \"8\", \"9\"]])\n",
        "print (mat1)"
      ]
    },
    {
      "cell_type": "code",
      "source": [
        "mat2 = np.array([[\"10\", \"11\", \"12\"], [\"13\", \"14\", \"15\"], [\"16\", \"18\", \"19\"]])\n",
        "print (mat2)"
      ],
      "metadata": {
        "colab": {
          "base_uri": "https://localhost:8080/"
        },
        "id": "NF1palMLlsW1",
        "outputId": "0fe391d2-1ecc-40ef-cdc6-cc91303590e6"
      },
      "execution_count": 53,
      "outputs": [
        {
          "output_type": "stream",
          "name": "stdout",
          "text": [
            "[['10' '11' '12']\n",
            " ['13' '14' '15']\n",
            " ['16' '18' '19']]\n"
          ]
        }
      ]
    },
    {
      "cell_type": "code",
      "source": [
        "#Sumas de matrices rectangulares\n",
        "import numpy as np\n",
        "\n",
        "def sum_matrices(mat1, mat2):\n",
        "#Creamos una matriz para el resultado\n",
        "    filas = len(mat1)\n",
        "    columnas = len(mat1[0])\n",
        "\n",
        "    matriz_resultante = [[1 for i in range (columnas)] for j in range (filas)]\n",
        "\n",
        "#Realizamos la suma de matrices\n",
        "    for i in range(filas):\n",
        "      for j in range(columnas):\n",
        "#Sumamos los elementos de cada matriz por medio de i y j\n",
        "          matriz_resultante[i][j] = mat1[i][j] + mat2[i][j]\n",
        "\n",
        "    return matriz_resultante\n",
        "\n",
        "  #Definimos las matrices\n",
        "mat1 = [[1, 2, 3], [4, 5, 6], [7, 8, 9]]\n",
        "mat2 = [[10, 11, 12], [13, 14, 15], [16, 18, 19]]\n",
        "\n",
        "  #Aplicamos el proceso\n",
        "result = sum_matrices(mat1, mat2)\n",
        "\n",
        "for fila in result:\n",
        "  print(fila)"
      ],
      "metadata": {
        "colab": {
          "base_uri": "https://localhost:8080/"
        },
        "id": "MpG9Eez4l5fo",
        "outputId": "4762e2e6-bd67-43a1-cf4f-f0c6134c90cb"
      },
      "execution_count": 72,
      "outputs": [
        {
          "output_type": "stream",
          "name": "stdout",
          "text": [
            "[11, 13, 15]\n",
            "[17, 19, 21]\n",
            "[23, 26, 28]\n"
          ]
        }
      ]
    },
    {
      "cell_type": "code",
      "source": [
        "#Multiplicacion entrada a entrada de matrices rectangulares\n",
        "def mult_matrices(mat1, mat2):\n",
        "  #Creamos una nueva matriz para el reslutado\n",
        "  filas = len(mat1)\n",
        "  columnas = len(mat1[0])\n",
        "\n",
        "  matriz_resultante = [[1 for i in range (columnas)] for j in range (filas)]\n",
        "  #Multiplicamos las matrices\n",
        "  for i in range(filas):\n",
        "    for j in range(columnas):\n",
        "      #Multiplicamos las matrices por medio de i y j\n",
        "         matriz_resultante[i][j] = int(mat1[i][j]) * int(mat2[i][j])\n",
        "  return matriz_resultante\n",
        "  #Definimos las matrices\n",
        "mat1 = [[\"1\", \"2\", \"3\"], [\"4\", \"5\", \"6\"], [\"7\", \"8\", \"9\"]]\n",
        "mat2 = [[\"10\", \"11\", \"12\"], [\"13\", \"14\", \"15\"], [\"16\", \"18\", \"19\"]]\n",
        "#Aplicamos el proceso\n",
        "result = mult_matrices(mat1, mat2)\n",
        "for fila in result:\n",
        "  print(fila)\n"
      ],
      "metadata": {
        "colab": {
          "base_uri": "https://localhost:8080/"
        },
        "id": "wD7ZeGMXxB5G",
        "outputId": "5f500450-7aec-4b85-cbc3-0c0316c85ada"
      },
      "execution_count": 66,
      "outputs": [
        {
          "output_type": "stream",
          "name": "stdout",
          "text": [
            "[10, 22, 36]\n",
            "[52, 70, 90]\n",
            "[112, 144, 171]\n"
          ]
        }
      ]
    },
    {
      "cell_type": "code",
      "source": [
        "#La transpuesta de una matriz\n",
        "mat1 = np.array([[[\"a₁₁\", \"a₁₂\", \"a₁₃\"], [\"a₂₁\", \"a₂₂\", \"a₂₃\"], [\"a₃₁\", \"a₃₂\", \"a₃₃\"]], [[\"a₁₁\",\"a₂₁\",\"a₃₁\"], [\"a₁₂\",\"a₂₂\",\"a₃₂\"], [\"a₁₃\",\"a₂₃\",\"a₃₃\"]]])\n",
        "print (mat1)\n",
        "#"
      ],
      "metadata": {
        "colab": {
          "base_uri": "https://localhost:8080/"
        },
        "id": "uHGoqTU1CpEe",
        "outputId": "37530b4d-6159-45a8-9872-26b451a99df0"
      },
      "execution_count": null,
      "outputs": [
        {
          "output_type": "stream",
          "name": "stdout",
          "text": [
            "[[['a₁₁' 'a₁₂' 'a₁₃']\n",
            "  ['a₂₁' 'a₂₂' 'a₂₃']\n",
            "  ['a₃₁' 'a₃₂' 'a₃₃']]\n",
            "\n",
            " [['a₁₁' 'a₂₁' 'a₃₁']\n",
            "  ['a₁₂' 'a₂₂' 'a₃₂']\n",
            "  ['a₁₃' 'a₂₃' 'a₃₃']]]\n"
          ]
        }
      ]
    },
    {
      "cell_type": "code",
      "source": [
        "import numpy as np\n",
        "#Encontrar el máximo y m ́ınimo elemento en una matriz.\n",
        "mat1 = np.array([[3, 7, 9],\n",
        "                   [5, 2, 1]])\n",
        "maximo = np.max(mat1)   #obtener el maximo\n",
        "print(\"El maximo es:\",maximo)\n",
        "minimo = np.min(mat1)   #obtener el minimo\n",
        "print(\"El minimo es:\",minimo)"
      ],
      "metadata": {
        "colab": {
          "base_uri": "https://localhost:8080/"
        },
        "id": "il7cr6b15hs4",
        "outputId": "59d8f599-bac1-4272-879d-c31e2b1995fa"
      },
      "execution_count": null,
      "outputs": [
        {
          "output_type": "stream",
          "name": "stdout",
          "text": [
            "El maximo es: 9\n",
            "El minimo es: 1\n"
          ]
        }
      ]
    },
    {
      "cell_type": "code",
      "source": [
        "import numpy as np\n",
        "#Calcular la suma del cuadrado de los elementos de una matriz.\n",
        "mat1= np.array([[1, 2, 3],[4, 5, 6]])\n",
        "\n",
        "sum_cuadrado = np.sum(mat1**2)\n",
        "print(\"La suma de los cuadrados es \",sum_cuadrado,)\n"
      ],
      "metadata": {
        "colab": {
          "base_uri": "https://localhost:8080/"
        },
        "id": "Hl_ukK161xRT",
        "outputId": "3bf765fa-aad0-464c-c700-243cc51b62e4"
      },
      "execution_count": null,
      "outputs": [
        {
          "output_type": "stream",
          "name": "stdout",
          "text": [
            "La suma de cuadrados es  91\n"
          ]
        }
      ]
    },
    {
      "cell_type": "code",
      "source": [
        "import numpy as np\n",
        "mat1 = np.array([[4,6,7], [2,4,5]])#elevado al cuadrado\n",
        "potencia = np.power(mat1, 2)\n",
        "print(potencia)\n",
        "\n",
        "mat1 = np.array([[4,6,7], [2,4,5]]) #elevado al cubo\n",
        "potencia = np.power(mat1, 3)\n",
        "print(potencia)"
      ],
      "metadata": {
        "colab": {
          "base_uri": "https://localhost:8080/"
        },
        "id": "RG3wy3bm34fM",
        "outputId": "511ca076-dfd4-4175-cfb4-b35149b85d86"
      },
      "execution_count": null,
      "outputs": [
        {
          "output_type": "stream",
          "name": "stdout",
          "text": [
            "[[16 36 49]\n",
            " [ 4 16 25]]\n",
            "[[ 64 216 343]\n",
            " [  8  64 125]]\n"
          ]
        }
      ]
    },
    {
      "cell_type": "code",
      "source": [
        "import numpy as np\n",
        "#Dada las matrices A y B\n",
        "A= np.array([[11, 7, -1],[-3, 5, 2],[4, 2, -2]])\n",
        "B= np.array([[1,1,1], [10, 3, -5],[-6, -10, -3]])\n",
        "print(\"Primera operacion\")\n",
        "#calcule 2B + A3\n",
        "result = (2*B) + (3*A)\n",
        "print(result)\n",
        "\n",
        "print(\"Segunda operacion\")\n",
        "#calcule (B + 2A)**2\n",
        "SUM1 = B + (2*A)   #primero reslovemos dentro de los parentesis\n",
        "result2 = (SUM1)**2  #ya teniendo el resultado de la suma elevamos al cuadrado\n",
        "print(result2)\n",
        "\n",
        "print(\"Tercera operacion\")\n",
        "#calcule A**2 + 3B\n",
        "SUM2 = A**2  #elevamos A al cuadrado\n",
        "result3 = SUM2 + (3*B)  #Ya teniendo a A** lo sumamos con el triple de B\n",
        "print(result3)"
      ],
      "metadata": {
        "colab": {
          "base_uri": "https://localhost:8080/"
        },
        "id": "FikLgB238ZtK",
        "outputId": "cdd76013-bbb3-4988-95ec-429a7c18d1d5"
      },
      "execution_count": null,
      "outputs": [
        {
          "output_type": "stream",
          "name": "stdout",
          "text": [
            "Primera operacion\n",
            "[[ 35  23  -1]\n",
            " [ 11  21  -4]\n",
            " [  0 -14 -12]]\n",
            "Segunda operacion\n",
            "[[529 225   1]\n",
            " [ 16 169   1]\n",
            " [  4  36  49]]\n",
            "Tercera operacion\n",
            "[[124  52   4]\n",
            " [ 39  34 -11]\n",
            " [ -2 -26  -5]]\n"
          ]
        }
      ]
    },
    {
      "cell_type": "markdown",
      "source": [
        "**MATPLOTLIB**"
      ],
      "metadata": {
        "id": "gEYAKJ-iAk4g"
      }
    },
    {
      "cell_type": "code",
      "source": [
        "import matplotlib.pyplot as plt\n",
        "import numpy as np"
      ],
      "metadata": {
        "id": "qOO-k-HyA0iB"
      },
      "execution_count": null,
      "outputs": []
    },
    {
      "cell_type": "code",
      "source": [
        "import numpy as np\n",
        "import matplotlib.pyplot as plt\n",
        "x = np.linspace(0,10,100) #Rango de la grafica\n",
        "#Valores para numeros negativos, positivos y 0\n",
        "c = [0]\n",
        "c1 = [1, 2, 3]\n",
        "c2 = [-1, -2, -3]\n",
        "plt.figure()\n",
        "for pos_c in c1: #Graficar los numeros positivos\n",
        "  y1=(x-1)+ pos_c*np.exp(-x)\n",
        "  plt.plot(x,y1, color=\"blue\", linewidth=2)\n",
        "for  neg_c in c2: #Graficar los numeros negativos\n",
        "  y2=(x-1)+ neg_c*np.exp(-x)\n",
        "  plt.plot(x,y2, color=\"purple\", linewidth=2)\n",
        "for cero_c in c: #Graficar para 0\n",
        "  y=(x-1)+ cero_c*np.exp(-x)\n",
        "  plt.plot(x,y, color=\"yellow\", linewidth=2)\n",
        "#Tiúlo de la grafica\n",
        "  plt.title(\"Grafica de la ecuacion para c\")\n",
        "  plt.show()"
      ],
      "metadata": {
        "id": "0VYmseIETjlb",
        "colab": {
          "base_uri": "https://localhost:8080/",
          "height": 452
        },
        "outputId": "70821a4c-7d77-41df-f996-420be50041bc"
      },
      "execution_count": null,
      "outputs": [
        {
          "output_type": "display_data",
          "data": {
            "text/plain": [
              "<Figure size 640x480 with 1 Axes>"
            ],
            "image/png": "[encoded data removed]"
          },
          "metadata": {}
        }
      ]
    },
    {
      "cell_type": "code",
      "source": [
        "import numpy as np\n",
        "import matplotlib.pyplot as plt\n",
        "x = np.linspace(-10, 10, 1000) ##rango de -10 a 10, con más de 1000 muestras.\n",
        "y1 = (3 * x + 7) / (x**2 - 4) #funcion\n",
        "plt.ylim(-10, 10)\n",
        "plt.plot(x, y, color=\"yellow\", linestyle = \"-\")\n",
        "\n",
        "plt.title(\" f(x) = (3x + 7) / (x^2 - 4)\") #titulo\n",
        "# Asíntotas\n",
        "plt.axhline(y=0, color=\"blue\", linestyle=\":\")  #horizontal\n",
        "plt.axvline(x=2, color=\"green\", linestyle=\":\") #vertical poitiva\n",
        "plt.axvline(x=-2, color=\"k\", linestyle=\":\") #vertical negativa\n",
        "#leyenda\n",
        "plt.legend([\"funcion\", \"asintota horizontal\", \"asintota vertical negativa\", \"asintota vertical positiva\"], loc=\"upper right\", fontsize=6)\n",
        "plt.show()"
      ],
      "metadata": {
        "colab": {
          "base_uri": "https://localhost:8080/",
          "height": 452
        },
        "id": "kW7bhfcvRFga",
        "outputId": "403fa611-bb0d-4543-b983-54fb3a28d91e"
      },
      "execution_count": null,
      "outputs": [
        {
          "output_type": "display_data",
          "data": {
            "text/plain": [
              "<Figure size 640x480 with 1 Axes>"
            ],
            "image/png": "[encoded data removed]"
          },
          "metadata": {}
        }
      ]
    }
  ]
}